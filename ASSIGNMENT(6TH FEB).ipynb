{
 "cells": [
  {
   "cell_type": "code",
   "execution_count": 19,
   "id": "a6a97ea4",
   "metadata": {},
   "outputs": [
    {
     "name": "stdout",
     "output_type": "stream",
     "text": [
      "4134711838987085478833841242112000\n"
     ]
    }
   ],
   "source": [
    "#ques1\n",
    "def productfunc(list2):\n",
    "    product = 1\n",
    "    for i in list2:\n",
    "        if type(i)==int:\n",
    "            product = product*i\n",
    "    return product\n",
    "\n",
    "def concflatlist(li):\n",
    "    flatlist = []\n",
    "    for items in li:\n",
    "        if type(items)==int or type(items)==str or type(items)==bool:\n",
    "            flatlist.append(items)\n",
    "        elif type(items)==list or type(items)==tuple or type(items)== set:\n",
    "            flatlist = flatlist + concflatlist(items)\n",
    "        elif type(items)==dict:\n",
    "            for keys in items.keys():\n",
    "                if type(keys)==int or type(keys)==str:\n",
    "                    flatlist.append(keys)\n",
    "                if type(keys)==list or type(keys)==tuple or type(keys)==set:\n",
    "                    flatlist = flatlist + concflatlist(keys)\n",
    "                    \n",
    "            for val in items.values():\n",
    "                if type(val)==int or type(val)==str:\n",
    "                    flatlist.append(val)\n",
    "                if type(val)==list or type(val)==tuple or type(val)==set:\n",
    "                    flatlist = flatlist + concflatlist(val)\n",
    "                    \n",
    "        else:\n",
    "            continue\n",
    "    return flatlist\n",
    "            \n",
    "list1 = [[1,2,3,4,[44,55,66,True] , False],(34,56,78,89,34),{1,2,3,3,2,1} ,{1:34 ,\"keys\" : [55,67,78,89],4:(45,22,61,34)},[56,\"datascience\"],\"machine learning\"]\n",
    "flatlist = concflatlist(list1)\n",
    "ans = productfunc(flatlist)\n",
    "print(ans)\n",
    "\n",
    "\n",
    "    "
   ]
  },
  {
   "cell_type": "code",
   "execution_count": 43,
   "id": "701c8e4c",
   "metadata": {},
   "outputs": [
    {
     "data": {
      "text/plain": [
       "'r$wzmg$gl$yvxlmv$z$wzgz$hxrvmgrhg'"
      ]
     },
     "execution_count": 43,
     "metadata": {},
     "output_type": "execute_result"
    }
   ],
   "source": [
    "#ques2\n",
    "sen=\"I want to become a Data Scientist\".lower()\n",
    "alphabet = \"abcdefghijklmnopqrstuvwxyz\"\n",
    "for letter in sen:\n",
    "        if letter ==\" \":\n",
    "            sen=sen.replace(\" \",\"$\")\n",
    "        else:\n",
    "            for alpha in alphabet:\n",
    "                if letter==alpha:\n",
    "                    j = alphabet.index(letter.lower())\n",
    "                    rep=alphabet[-(1+j)]\n",
    "                    sen = sen.replace(letter , rep)\n",
    "sen\n",
    "           "
   ]
  }
 ],
 "metadata": {
  "kernelspec": {
   "display_name": "Python 3 (ipykernel)",
   "language": "python",
   "name": "python3"
  },
  "language_info": {
   "codemirror_mode": {
    "name": "ipython",
    "version": 3
   },
   "file_extension": ".py",
   "mimetype": "text/x-python",
   "name": "python",
   "nbconvert_exporter": "python",
   "pygments_lexer": "ipython3",
   "version": "3.9.12"
  }
 },
 "nbformat": 4,
 "nbformat_minor": 5
}
